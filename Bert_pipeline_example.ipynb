{
 "cells": [
  {
   "cell_type": "markdown",
   "id": "0a167d9a-e639-457b-a803-c1539dadd78c",
   "metadata": {},
   "source": [
    "# Pipeline setup. \n",
    "Open IAM role, and add permission Lambda full access to this sagemaker role. (you'll also need to grant sagemaker full access to lambda)"
   ]
  },
  {
   "cell_type": "code",
   "execution_count": 2,
   "id": "02055245-c24b-4ea6-8cc7-1bc974c4cf74",
   "metadata": {},
   "outputs": [
    {
     "name": "stderr",
     "output_type": "stream",
     "text": [
      "Using model 'tensorflow-tc-bert-multi-cased-L-12-H-768-A-12-2' with wildcard version identifier '*'. You can pin to version '3.0.8' for more stable results. Note that models may have different input/output signatures after a major version upgrade.\n",
      "WARNING:sagemaker.jumpstart:Using model 'tensorflow-tc-bert-multi-cased-L-12-H-768-A-12-2' with wildcard version identifier '*'. You can pin to version '3.0.8' for more stable results. Note that models may have different input/output signatures after a major version upgrade.\n",
      "No instance type selected for inference hosting endpoint. Defaulting to ml.p3.2xlarge.\n",
      "INFO:sagemaker.jumpstart:No instance type selected for inference hosting endpoint. Defaulting to ml.p3.2xlarge.\n",
      "WARNING:sagemaker.workflow.utilities:Popping out 'TrainingJobName' from the pipeline definition by default since it will be overridden at pipeline execution time. Please utilize the PipelineDefinitionConfig to persist this field in the pipeline definition if desired.\n",
      "WARNING:sagemaker.workflow.utilities:Popping out 'ModelName' from the pipeline definition by default since it will be overridden at pipeline execution time. Please utilize the PipelineDefinitionConfig to persist this field in the pipeline definition if desired.\n",
      "/opt/conda/lib/python3.11/site-packages/sagemaker/workflow/lambda_step.py:165: UserWarning: Lambda function won't be updated because zipped_code_dir                 or script is not provided.\n",
      "  warnings.warn(\n",
      "WARNING:sagemaker.workflow.utilities:Popping out 'TrainingJobName' from the pipeline definition by default since it will be overridden at pipeline execution time. Please utilize the PipelineDefinitionConfig to persist this field in the pipeline definition if desired.\n",
      "WARNING:sagemaker.workflow.utilities:Popping out 'ModelName' from the pipeline definition by default since it will be overridden at pipeline execution time. Please utilize the PipelineDefinitionConfig to persist this field in the pipeline definition if desired.\n"
     ]
    },
    {
     "data": {
      "text/plain": [
       "{'PipelineArn': 'arn:aws:sagemaker:ap-northeast-1:533267358966:pipeline/BERTDeploymentPipeline',\n",
       " 'ResponseMetadata': {'RequestId': '11f0f996-3917-4223-b059-81924f602118',\n",
       "  'HTTPStatusCode': 200,\n",
       "  'HTTPHeaders': {'x-amzn-requestid': '11f0f996-3917-4223-b059-81924f602118',\n",
       "   'content-type': 'application/x-amz-json-1.1',\n",
       "   'content-length': '95',\n",
       "   'date': 'Sat, 08 Mar 2025 04:27:30 GMT'},\n",
       "  'RetryAttempts': 0}}"
      ]
     },
     "execution_count": 2,
     "metadata": {},
     "output_type": "execute_result"
    }
   ],
   "source": [
    "import sagemaker\n",
    "from sagemaker.workflow.pipeline import Pipeline\n",
    "from sagemaker.workflow.steps import TrainingStep, CreateModelStep\n",
    "from sagemaker.lambda_helper import Lambda\n",
    "from sagemaker.workflow.parameters import ParameterString\n",
    "from sagemaker.workflow.lambda_step import LambdaStep, LambdaOutput, LambdaOutputTypeEnum\n",
    "from sagemaker.jumpstart.estimator import JumpStartEstimator\n",
    "from sagemaker.model import Model\n",
    "from sagemaker.workflow.pipeline_context import PipelineSession\n",
    "\n",
    "\n",
    "aws_region = \"ap-northeast-1\"\n",
    "sess = PipelineSession()\n",
    "role = sagemaker.get_execution_role()\n",
    "\n",
    "model_id = \"tensorflow-tc-bert-multi-cased-L-12-H-768-A-12-2\"\n",
    "instance_type = \"ml.m5.4xlarge\"\n",
    "training_data = \"s3://sagemaker-automated-execution-xxxxxxxxxx-ap-northeast-1/training-datasets/SST/\"\n",
    "endpoint_name = \"endpoint_test1\"\n",
    "\n",
    "\n",
    "estimator = JumpStartEstimator(\n",
    "    model_id=model_id,\n",
    "    hyperparameters={\n",
    "        \"epochs\": \"1\",\n",
    "        \"batch_size\": \"64\",\n",
    "        \"use_fp16\": \"True\",\n",
    "        \"train_only_top_layer\": \"True\"\n",
    "        },\n",
    "    instance_type=instance_type,\n",
    "    role=role,\n",
    "    sagemaker_session=sess\n",
    "    )\n",
    "\n",
    "training_data_param = ParameterString(name=\"TrainingDataS3\", default_value=training_data)\n",
    "\n",
    "training_step = TrainingStep(\n",
    "    name=\"TrainBERTModel\",\n",
    "    estimator=estimator,\n",
    "    inputs={\"training\": training_data_param}\n",
    "    )\n",
    "\n",
    "# Create model with direct link to training artifacts\n",
    "from sagemaker.jumpstart.model import JumpStartModel\n",
    "model = JumpStartModel(  \n",
    "    model_id=model_id,\n",
    "    model_data=training_step.properties.ModelArtifacts.S3ModelArtifacts,\n",
    "    role=role,\n",
    "    sagemaker_session=sess\n",
    "    )\n",
    "\n",
    "# Create model step without specifying inputs\n",
    "model_step = CreateModelStep(\n",
    "    name=\"CreateModel\",\n",
    "    model=model\n",
    "    )\n",
    "\n",
    "# Lambda function ARN (Replace with actual Lambda ARN)\n",
    "# Open IAM in console, access the role used by Lambda, add sagemaker full access policy.\n",
    "lambda_function = Lambda(function_arn=\"arn:aws:lambda:ap-northeast-1:xxxxxxxxxxx:function:endpointTest1\")\n",
    "\n",
    "# Lambda step to deploy the model\n",
    "lambda_step = LambdaStep(\n",
    "    name=\"DeployEndpoint\",\n",
    "    lambda_func=lambda_function,\n",
    "    inputs={\n",
    "        \"model_name\": model_step.properties.ModelName,\n",
    "        \"endpoint_name\": endpoint_name,\n",
    "        \"instance_type\": instance_type,\n",
    "        },\n",
    "    outputs=[LambdaOutput(output_name=\"EndpointStatus\", output_type=LambdaOutputTypeEnum.String)]\n",
    "    )\n",
    "\n",
    "pipeline = Pipeline(\n",
    "    name=\"BERTDeploymentPipeline\",\n",
    "    parameters=[training_data_param],\n",
    "    steps=[training_step, model_step, lambda_step]\n",
    "    )\n",
    "\n",
    "pipeline.upsert(role_arn=role)\n"
   ]
  },
  {
   "cell_type": "code",
   "execution_count": 14,
   "id": "7ba19d01-9697-4d58-86c3-979fb77d3f54",
   "metadata": {},
   "outputs": [
    {
     "data": {
      "text/plain": [
       "_PipelineExecution(arn='arn:aws:sagemaker:ap-northeast-1:533267358966:pipeline/BERTDeploymentPipeline/execution/rbqhnbpy5nnp', sagemaker_session=<sagemaker.session.Session object at 0x7f6e7dc5eb50>)"
      ]
     },
     "execution_count": 14,
     "metadata": {},
     "output_type": "execute_result"
    }
   ],
   "source": [
    "pipeline.start()"
   ]
  }
 ],
 "metadata": {
  "kernelspec": {
   "display_name": "Python 3 (ipykernel)",
   "language": "python",
   "name": "python3"
  },
  "language_info": {
   "codemirror_mode": {
    "name": "ipython",
    "version": 3
   },
   "file_extension": ".py",
   "mimetype": "text/x-python",
   "name": "python",
   "nbconvert_exporter": "python",
   "pygments_lexer": "ipython3",
   "version": "3.11.11"
  }
 },
 "nbformat": 4,
 "nbformat_minor": 5
}
